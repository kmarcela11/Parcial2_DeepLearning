{
 "cells": [
  {
   "cell_type": "markdown",
   "id": "c0c9e450",
   "metadata": {},
   "source": [
    "# **Preprocesamiento**"
   ]
  },
  {
   "cell_type": "markdown",
   "id": "a40ef488",
   "metadata": {},
   "source": [
    "En este notebook se pondrá el preprocesamiento antes de la implementación de los modelos. También la división del conjunto de entrenamiento, validación y test"
   ]
  }
 ],
 "metadata": {
  "language_info": {
   "name": "python"
  }
 },
 "nbformat": 4,
 "nbformat_minor": 5
}
