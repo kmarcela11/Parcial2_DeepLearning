{
 "cells": [
  {
   "cell_type": "markdown",
   "id": "95f453b3",
   "metadata": {},
   "source": [
    "# **Implementación de modelos de clasificación**"
   ]
  },
  {
   "cell_type": "markdown",
   "id": "dcfb5b7d",
   "metadata": {},
   "source": [
    "En este notebook estará la implementación de los algoritmos de clasificación (RNN, LSTM, GRU y Bidirectional LSTM) para el análisis de sentimiento."
   ]
  },
  {
   "cell_type": "code",
   "execution_count": 2,
   "id": "6e9db440",
   "metadata": {},
   "outputs": [],
   "source": [
    "import sys\n",
    "import numpy as np\n",
    "import pandas as pd\n",
    "import sklearn as sk\n",
    "import tensorflow as tf"
   ]
  },
  {
   "cell_type": "code",
   "execution_count": 3,
   "id": "d87f2085",
   "metadata": {},
   "outputs": [
    {
     "name": "stdout",
     "output_type": "stream",
     "text": [
      "Tensor Flow Version: 2.10.1\n",
      "Python 3.9.19 (main, May  6 2024, 20:12:36) [MSC v.1916 64 bit (AMD64)]\n",
      "Pandas 2.2.2\n",
      "Scikit-Learn 1.5.1\n",
      "GPU is available\n"
     ]
    }
   ],
   "source": [
    "print(f\"Tensor Flow Version: {tf.__version__}\");\n",
    "print(f\"Python {sys.version}\");\n",
    "print(f\"Pandas {pd.__version__}\");\n",
    "print(f\"Scikit-Learn {sk.__version__}\");\n",
    "gpu = len(tf.config.list_physical_devices('GPU'))>0\n",
    "print(\"GPU is\", \"available\" if gpu else \"NOT AVAILABLE\");"
   ]
  }
 ],
 "metadata": {
  "kernelspec": {
   "display_name": "data_viz",
   "language": "python",
   "name": "python3"
  },
  "language_info": {
   "codemirror_mode": {
    "name": "ipython",
    "version": 3
   },
   "file_extension": ".py",
   "mimetype": "text/x-python",
   "name": "python",
   "nbconvert_exporter": "python",
   "pygments_lexer": "ipython3",
   "version": "3.9.19"
  }
 },
 "nbformat": 4,
 "nbformat_minor": 5
}
